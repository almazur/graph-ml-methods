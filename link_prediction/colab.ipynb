{
  "nbformat": 4,
  "nbformat_minor": 0,
  "metadata": {
    "colab": {
      "name": "colab.ipynb",
      "provenance": [],
      "collapsed_sections": []
    },
    "kernelspec": {
      "name": "python3",
      "display_name": "Python 3"
    }
  },
  "cells": [
    {
      "cell_type": "code",
      "metadata": {
        "id": "X7ek--il23nR",
        "colab_type": "code",
        "colab": {}
      },
      "source": [
        "!rm -r graph-ml-methods"
      ],
      "execution_count": 0,
      "outputs": []
    },
    {
      "cell_type": "code",
      "metadata": {
        "id": "kVDf08l61Ti0",
        "colab_type": "code",
        "outputId": "421bb6d5-1fb6-41ae-b6c9-7918bcbc41a7",
        "colab": {
          "base_uri": "https://localhost:8080/",
          "height": 122
        }
      },
      "source": [
        "!git clone https://github.com/almazur/graph-ml-methods.git"
      ],
      "execution_count": 8,
      "outputs": []
    },
    {
      "cell_type": "code",
      "metadata": {
        "id": "YHwdmJiB3Baw",
        "colab_type": "code",
        "colab": {}
      },
      "source": [
        "!pip install -r graph-ml-methods/requirements.txt"
      ],
      "execution_count": 0,
      "outputs": []
    },
    {
      "cell_type": "code",
      "metadata": {
        "id": "jwLhoSyd1obP",
        "colab_type": "code",
        "colab": {}
      },
      "source": [
        "!python3 graph-ml-methods/link_prediction/link_predict.py -d FB15k-237"
      ],
      "execution_count": 0,
      "outputs": []
    }
  ]
}
