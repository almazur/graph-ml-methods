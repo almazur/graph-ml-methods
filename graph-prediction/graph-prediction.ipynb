{
 "cells": [
  {
   "cell_type": "code",
   "execution_count": 1,
   "metadata": {},
   "outputs": [],
   "source": [
    "%matplotlib inline"
   ]
  },
  {
   "cell_type": "markdown",
   "metadata": {},
   "source": [
    "\n",
    ".. currentmodule:: dgl\n",
    "\n",
    "Graph Classification Tutorial\n",
    "=============================\n",
    "\n",
    "**Author**: `Mufei Li <https://github.com/mufeili>`_,\n",
    "`Minjie Wang <https://jermainewang.github.io/>`_,\n",
    "`Zheng Zhang <https://shanghai.nyu.edu/academics/faculty/directory/zheng-zhang>`_.\n",
    "\n",
    "In this tutorial, you learn how to use DGL to batch multiple graphs of variable size and shape. The \n",
    "tutorial also demonstrates training a graph neural network for a simple graph classification task.\n",
    "\n",
    "Graph classification is an important problem\n",
    "with applications across many fields, such as bioinformatics, chemoinformatics, social\n",
    "network analysis, urban computing, and cybersecurity. Applying graph neural\n",
    "networks to this problem has been a popular approach recently. This can be seen in the following reserach references: \n",
    "`Ying et al., 2018 <https://arxiv.org/abs/1806.08804>`_,\n",
    "`Cangea et al., 2018 <https://arxiv.org/abs/1811.01287>`_,\n",
    "`Knyazev et al., 2018 <https://arxiv.org/abs/1811.09595>`_,\n",
    "`Bianchi et al., 2019 <https://arxiv.org/abs/1901.01343>`_,\n",
    "`Liao et al., 2019 <https://arxiv.org/abs/1901.01484>`_,\n",
    "`Gao et al., 2019 <https://openreview.net/forum?id=HJePRoAct7>`_).\n"
   ]
  },
  {
   "cell_type": "markdown",
   "metadata": {},
   "source": [
    "Simple graph classification task\n",
    "--------------------------------\n",
    "In this tutorial, you learn how to perform batched graph classification\n",
    "with DGL. The example task objective is to classify eight types of topologies shown here.\n",
    "\n",
    "![](https://data.dgl.ai/tutorial/batch/dataset_overview.png)\n",
    "\n",
    "    :align: center\n",
    "\n",
    "Implement a synthetic dataset :class:`data.MiniGCDataset` in DGL. The dataset has eight \n",
    "different types of graphs and each class has the same number of graph samples.\n",
    "\n"
   ]
  },
  {
   "cell_type": "code",
   "execution_count": 4,
   "metadata": {},
   "outputs": [
    {
     "name": "stderr",
     "output_type": "stream",
     "text": [
      "Using backend: pytorch\n",
      "/home/mateusz/Programs/anaconda3/lib/python3.7/site-packages/networkx/drawing/nx_pylab.py:579: MatplotlibDeprecationWarning: \n",
      "The iterable function was deprecated in Matplotlib 3.1 and will be removed in 3.3. Use np.iterable instead.\n",
      "  if not cb.iterable(width):\n",
      "/home/mateusz/Programs/anaconda3/lib/python3.7/site-packages/networkx/drawing/nx_pylab.py:676: MatplotlibDeprecationWarning: \n",
      "The iterable function was deprecated in Matplotlib 3.1 and will be removed in 3.3. Use np.iterable instead.\n",
      "  if cb.iterable(node_size):  # many node sizes\n"
     ]
    },
    {
     "data": {
      "image/png": "[encoded data removed]",
      "text/plain": [
       "<Figure size 432x288 with 1 Axes>"
      ]
     },
     "metadata": {},
     "output_type": "display_data"
    }
   ],
   "source": [
    "from dgl.data import MiniGCDataset\n",
    "import matplotlib.pyplot as plt\n",
    "import networkx as nx\n",
    "# A dataset with 80 samples, each graph is\n",
    "# of size [10, 20]\n",
    "dataset = MiniGCDataset(80, 10, 20)\n",
    "graph, label = dataset[0]\n",
    "fig, ax = plt.subplots()\n",
    "nx.draw(graph.to_networkx(), ax=ax)\n",
    "ax.set_title('Class: {:d}'.format(label))\n",
    "plt.show()"
   ]
  },
  {
   "cell_type": "markdown",
   "metadata": {},
   "source": [
    "Form a graph mini-batch\n",
    "-----------------------\n",
    "To train neural networks efficiently, a common practice is to batch\n",
    "multiple samples together to form a mini-batch. Batching fixed-shaped tensor\n",
    "inputs is common. For example, batching two images of size 28 x 28\n",
    "gives a tensor of shape 2 x 28 x 28. By contrast, batching graph inputs\n",
    "has two challenges:\n",
    "\n",
    "* Graphs are sparse.\n",
    "* Graphs can have various length. For example, number of nodes and edges.\n",
    "\n",
    "To address this, DGL provides a :func:`dgl.batch` API. It leverages the idea that\n",
    "a batch of graphs can be viewed as a large graph that has many disjointed \n",
    "connected components. Below is a visualization that gives the general idea.\n",
    "\n",
    "![](https://data.dgl.ai/tutorial/batch/batch.png)\n",
    "\n",
    "    :width: 400pt\n",
    "    :align: center\n",
    "\n",
    "Define the following ``collate`` function to form a mini-batch from a given\n",
    "list of graph and label pairs.\n",
    "\n"
   ]
  },
  {
   "cell_type": "code",
   "execution_count": 5,
   "metadata": {},
   "outputs": [],
   "source": [
    "import dgl\n",
    "import torch\n",
    "\n",
    "def collate(samples):\n",
    "    # The input `samples` is a list of pairs\n",
    "    #  (graph, label).\n",
    "    graphs, labels = map(list, zip(*samples))\n",
    "    batched_graph = dgl.batch(graphs)\n",
    "    return batched_graph, torch.tensor(labels)"
   ]
  },
  {
   "cell_type": "markdown",
   "metadata": {},
   "source": [
    "The return type of :func:`dgl.batch` is still a graph. In the same way, \n",
    "a batch of tensors is still a tensor. This means that any code that works\n",
    "for one graph immediately works for a batch of graphs. More importantly,\n",
    "because DGL processes messages on all nodes and edges in parallel, this greatly\n",
    "improves efficiency.\n",
    "\n",
    "Graph classifier\n",
    "----------------\n",
    "Graph classification proceeds as follows.\n",
    "\n",
    "![](https://data.dgl.ai/tutorial/batch/graph_classifier.png)\n",
    "\n",
    "\n",
    "From a batch of graphs, perform message passing and graph convolution\n",
    "for nodes to communicate with others. After message passing, compute a\n",
    "tensor for graph representation from node (and edge) attributes. This step might \n",
    "be called readout or aggregation. Finally, the graph \n",
    "representations are fed into a classifier $g$ to predict the graph labels.\n",
    "\n",
    "Graph convolution layer can be found in the ``dgl.nn.<backend>`` submodule.\n",
    "\n"
   ]
  },
  {
   "cell_type": "code",
   "execution_count": 6,
   "metadata": {},
   "outputs": [],
   "source": [
    "from dgl.nn.pytorch import GraphConv"
   ]
  },
  {
   "cell_type": "markdown",
   "metadata": {},
   "source": [
    "Readout and classification\n",
    "--------------------------\n",
    "For this demonstration, consider initial node features to be their degrees.\n",
    "After two rounds of graph convolution, perform a graph readout by averaging\n",
    "over all node features for each graph in the batch.\n",
    "\n",
    "\\begin{align}h_g=\\frac{1}{|\\mathcal{V}|}\\sum_{v\\in\\mathcal{V}}h_{v}\\end{align}\n",
    "\n",
    "In DGL, :func:`dgl.mean_nodes` handles this task for a batch of\n",
    "graphs with variable size. You then feed the graph representations into a\n",
    "classifier with one linear layer to obtain pre-softmax logits.\n",
    "\n"
   ]
  },
  {
   "cell_type": "code",
   "execution_count": 7,
   "metadata": {},
   "outputs": [],
   "source": [
    "import torch.nn as nn\n",
    "import torch.nn.functional as F\n",
    "\n",
    "class Classifier(nn.Module):\n",
    "    def __init__(self, in_dim, hidden_dim, n_classes):\n",
    "        super(Classifier, self).__init__()\n",
    "        self.conv1 = GraphConv(in_dim, hidden_dim)\n",
    "        self.conv2 = GraphConv(hidden_dim, hidden_dim)\n",
    "        self.classify = nn.Linear(hidden_dim, n_classes)\n",
    "\n",
    "    def forward(self, g):\n",
    "        # Use node degree as the initial node feature. For undirected graphs, the in-degree\n",
    "        # is the same as the out_degree.\n",
    "        h = g.in_degrees().view(-1, 1).float()\n",
    "        # Perform graph convolution and activation function.\n",
    "        h = F.relu(self.conv1(g, h))\n",
    "        h = F.relu(self.conv2(g, h))\n",
    "        g.ndata['h'] = h\n",
    "        # Calculate graph representation by averaging all the node representations.\n",
    "        hg = dgl.mean_nodes(g, 'h')\n",
    "        return self.classify(hg)"
   ]
  },
  {
   "cell_type": "markdown",
   "metadata": {},
   "source": [
    "Setup and training\n",
    "------------------\n",
    "Create a synthetic dataset of $400$ graphs with $10$ ~\n",
    "$20$ nodes. $320$ graphs constitute a training set and\n",
    "$80$ graphs constitute a test set.\n",
    "\n"
   ]
  },
  {
   "cell_type": "code",
   "execution_count": 8,
   "metadata": {},
   "outputs": [
    {
     "name": "stdout",
     "output_type": "stream",
     "text": [
      "Epoch 0, loss 2.0030\n",
      "Epoch 1, loss 1.9560\n",
      "Epoch 2, loss 1.9501\n",
      "Epoch 3, loss 1.9359\n",
      "Epoch 4, loss 1.9301\n",
      "Epoch 5, loss 1.9133\n",
      "Epoch 6, loss 1.9006\n",
      "Epoch 7, loss 1.8836\n",
      "Epoch 8, loss 1.8540\n",
      "Epoch 9, loss 1.8215\n",
      "Epoch 10, loss 1.7827\n",
      "Epoch 11, loss 1.7344\n",
      "Epoch 12, loss 1.6758\n",
      "Epoch 13, loss 1.6198\n",
      "Epoch 14, loss 1.5604\n",
      "Epoch 15, loss 1.4995\n",
      "Epoch 16, loss 1.4402\n",
      "Epoch 17, loss 1.3853\n",
      "Epoch 18, loss 1.3170\n",
      "Epoch 19, loss 1.2675\n",
      "Epoch 20, loss 1.2125\n",
      "Epoch 21, loss 1.1725\n",
      "Epoch 22, loss 1.1281\n",
      "Epoch 23, loss 1.0780\n",
      "Epoch 24, loss 1.0479\n",
      "Epoch 25, loss 1.0198\n",
      "Epoch 26, loss 0.9872\n",
      "Epoch 27, loss 0.9661\n",
      "Epoch 28, loss 0.9540\n",
      "Epoch 29, loss 0.9425\n",
      "Epoch 30, loss 0.9382\n",
      "Epoch 31, loss 0.8970\n",
      "Epoch 32, loss 0.8833\n",
      "Epoch 33, loss 0.8705\n",
      "Epoch 34, loss 0.8627\n",
      "Epoch 35, loss 0.8463\n",
      "Epoch 36, loss 0.8320\n",
      "Epoch 37, loss 0.8260\n",
      "Epoch 38, loss 0.8237\n",
      "Epoch 39, loss 0.8107\n",
      "Epoch 40, loss 0.8053\n",
      "Epoch 41, loss 0.8042\n",
      "Epoch 42, loss 0.7838\n",
      "Epoch 43, loss 0.8041\n",
      "Epoch 44, loss 0.7946\n",
      "Epoch 45, loss 0.7915\n",
      "Epoch 46, loss 0.7980\n",
      "Epoch 47, loss 0.7637\n",
      "Epoch 48, loss 0.7546\n",
      "Epoch 49, loss 0.7449\n",
      "Epoch 50, loss 0.7549\n",
      "Epoch 51, loss 0.7516\n",
      "Epoch 52, loss 0.7474\n",
      "Epoch 53, loss 0.7468\n",
      "Epoch 54, loss 0.7638\n",
      "Epoch 55, loss 0.7636\n",
      "Epoch 56, loss 0.7183\n",
      "Epoch 57, loss 0.7222\n",
      "Epoch 58, loss 0.7153\n",
      "Epoch 59, loss 0.7286\n",
      "Epoch 60, loss 0.7387\n",
      "Epoch 61, loss 0.7263\n",
      "Epoch 62, loss 0.7076\n",
      "Epoch 63, loss 0.7243\n",
      "Epoch 64, loss 0.6945\n",
      "Epoch 65, loss 0.6978\n",
      "Epoch 66, loss 0.6926\n",
      "Epoch 67, loss 0.6884\n",
      "Epoch 68, loss 0.6866\n",
      "Epoch 69, loss 0.6934\n",
      "Epoch 70, loss 0.6827\n",
      "Epoch 71, loss 0.6820\n",
      "Epoch 72, loss 0.6825\n",
      "Epoch 73, loss 0.6872\n",
      "Epoch 74, loss 0.6780\n",
      "Epoch 75, loss 0.6772\n",
      "Epoch 76, loss 0.6788\n",
      "Epoch 77, loss 0.6718\n",
      "Epoch 78, loss 0.6764\n",
      "Epoch 79, loss 0.6636\n"
     ]
    }
   ],
   "source": [
    "import torch.optim as optim\n",
    "from torch.utils.data import DataLoader\n",
    "\n",
    "# Create training and test sets.\n",
    "trainset = MiniGCDataset(320, 10, 20)\n",
    "testset = MiniGCDataset(80, 10, 20)\n",
    "# Use PyTorch's DataLoader and the collate function\n",
    "# defined before.\n",
    "data_loader = DataLoader(trainset, batch_size=32, shuffle=True,\n",
    "                         collate_fn=collate)\n",
    "\n",
    "# Create model\n",
    "model = Classifier(1, 256, trainset.num_classes)\n",
    "loss_func = nn.CrossEntropyLoss()\n",
    "optimizer = optim.Adam(model.parameters(), lr=0.001)\n",
    "model.train()\n",
    "\n",
    "epoch_losses = []\n",
    "for epoch in range(80):\n",
    "    epoch_loss = 0\n",
    "    for iter, (bg, label) in enumerate(data_loader):\n",
    "        prediction = model(bg)\n",
    "        loss = loss_func(prediction, label)\n",
    "        optimizer.zero_grad()\n",
    "        loss.backward()\n",
    "        optimizer.step()\n",
    "        epoch_loss += loss.detach().item()\n",
    "    epoch_loss /= (iter + 1)\n",
    "    print('Epoch {}, loss {:.4f}'.format(epoch, epoch_loss))\n",
    "    epoch_losses.append(epoch_loss)"
   ]
  },
  {
   "cell_type": "markdown",
   "metadata": {},
   "source": [
    "The learning curve of a run is presented below.\n",
    "\n"
   ]
  },
  {
   "cell_type": "code",
   "execution_count": 9,
   "metadata": {},
   "outputs": [
    {
     "data": {
      "image/png": "[encoded data removed]",
      "text/plain": [
       "<Figure size 432x288 with 1 Axes>"
      ]
     },
     "metadata": {
      "needs_background": "light"
     },
     "output_type": "display_data"
    }
   ],
   "source": [
    "plt.title('cross entropy averaged over minibatches')\n",
    "plt.plot(epoch_losses)\n",
    "plt.show()"
   ]
  },
  {
   "cell_type": "markdown",
   "metadata": {},
   "source": [
    "The trained model is evaluated on the test set created. To deploy\n",
    "the tutorial, restrict the running time to get a higher\n",
    "accuracy ($80$ % ~ $90$ %) than the ones printed below.\n",
    "\n"
   ]
  },
  {
   "cell_type": "code",
   "execution_count": 10,
   "metadata": {},
   "outputs": [
    {
     "name": "stdout",
     "output_type": "stream",
     "text": [
      "Accuracy of sampled predictions on the test set: 65.0000%\n",
      "Accuracy of argmax predictions on the test set: 71.250000%\n"
     ]
    }
   ],
   "source": [
    "model.eval()\n",
    "# Convert a list of tuples to two lists\n",
    "test_X, test_Y = map(list, zip(*testset))\n",
    "test_bg = dgl.batch(test_X)\n",
    "test_Y = torch.tensor(test_Y).float().view(-1, 1)\n",
    "probs_Y = torch.softmax(model(test_bg), 1)\n",
    "sampled_Y = torch.multinomial(probs_Y, 1)\n",
    "argmax_Y = torch.max(probs_Y, 1)[1].view(-1, 1)\n",
    "print('Accuracy of sampled predictions on the test set: {:.4f}%'.format(\n",
    "    (test_Y == sampled_Y.float()).sum().item() / len(test_Y) * 100))\n",
    "print('Accuracy of argmax predictions on the test set: {:4f}%'.format(\n",
    "    (test_Y == argmax_Y.float()).sum().item() / len(test_Y) * 100))"
   ]
  },
  {
   "cell_type": "markdown",
   "metadata": {},
   "source": [
    "The animation here plots the probability that a trained model predicts the correct graph type.\n",
    "\n",
    "![](https://data.dgl.ai/tutorial/batch/test_eval4.gif)\n",
    "\n",
    "\n",
    "To understand the node and graph representations that a trained model learned,\n",
    "we use `t-SNE, <https://lvdmaaten.github.io/tsne/>`_ for dimensionality reduction\n",
    "and visualization.\n",
    "\n",
    "![](https://data.dgl.ai/tutorial/batch/tsne_node2.png)\n",
    "\n",
    "    :align: center\n",
    "\n",
    "![](https://data.dgl.ai/tutorial/batch/tsne_graph2.png)\n",
    "\n",
    "    :align: center\n",
    "\n",
    "The two small figures on the top separately visualize node representations after one and two\n",
    "layers of graph convolution. The figure on the bottom visualizes\n",
    "the pre-softmax logits for graphs as graph representations.\n",
    "\n",
    "While the visualization does suggest some clustering effects of the node features,\n",
    "you would not expect a perfect result. Node degrees are deterministic for\n",
    "these node features. The graph features are improved when separated.\n",
    "\n",
    "What's next?\n",
    "------------\n",
    "Graph classification with graph neural networks is still a new field.\n",
    "It's waiting for people to bring more exciting discoveries. The work requires \n",
    "mapping different graphs to different embeddings, while preserving\n",
    "their structural similarity in the embedding space. To learn more about it, see \n",
    "`How Powerful Are Graph Neural Networks? <https://arxiv.org/abs/1810.00826>`_ a research paper  \n",
    "published for the International Conference on Learning Representations 2019.\n",
    "\n",
    "For more examples about batched graph processing, see the following:\n",
    "\n",
    "* Tutorials for `Tree LSTM <https://docs.dgl.ai/tutorials/models/2_small_graph/3_tree-lstm.html>`_ and `Deep Generative Models of Graphs <https://docs.dgl.ai/tutorials/models/3_generative_model/5_dgmg.html>`_\n",
    "* An example implementation of `Junction Tree VAE <https://github.com/dmlc/dgl/tree/master/examples/pytorch/jtnn>`_\n",
    "\n"
   ]
  }
 ],
 "metadata": {
  "kernelspec": {
   "display_name": "Python 3",
   "language": "python",
   "name": "python3"
  },
  "language_info": {
   "codemirror_mode": {
    "name": "ipython",
    "version": 3
   },
   "file_extension": ".py",
   "mimetype": "text/x-python",
   "name": "python",
   "nbconvert_exporter": "python",
   "pygments_lexer": "ipython3",
   "version": "3.7.4"
  }
 },
 "nbformat": 4,
 "nbformat_minor": 1
}
